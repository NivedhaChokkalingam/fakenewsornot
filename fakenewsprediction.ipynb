{
  "nbformat": 4,
  "nbformat_minor": 0,
  "metadata": {
    "colab": {
      "name": "fakenewsprediction.ipynb",
      "provenance": []
    },
    "kernelspec": {
      "name": "python3",
      "display_name": "Python 3"
    },
    "language_info": {
      "name": "python"
    }
  },
  "cells": [
    {
      "cell_type": "code",
      "execution_count": 7,
      "metadata": {
        "id": "GyvaSMKHGMjw"
      },
      "outputs": [],
      "source": [
        "import numpy as np\n",
        "import pandas as pd\n",
        "import re\n",
        "from nltk.corpus import stopwords\n",
        "from nltk.stem.porter import PorterStemmer\n",
        "from sklearn.feature_extraction.text import TfidfVectorizer\n",
        "from sklearn.model_selection import train_test_split\n",
        "from sklearn.linear_model import LogisticRegression\n",
        "from sklearn.metrics import accuracy_score"
      ]
    },
    {
      "cell_type": "code",
      "source": [
        "import nltk\n",
        "nltk.download('stopwords')"
      ],
      "metadata": {
        "colab": {
          "base_uri": "https://localhost:8080/"
        },
        "id": "MPBH2sMAGS2C",
        "outputId": "c85c3e58-9369-4b23-dffc-46bc880d1c8d"
      },
      "execution_count": 4,
      "outputs": [
        {
          "output_type": "stream",
          "name": "stdout",
          "text": [
            "[nltk_data] Downloading package stopwords to /root/nltk_data...\n",
            "[nltk_data]   Package stopwords is already up-to-date!\n"
          ]
        },
        {
          "output_type": "execute_result",
          "data": {
            "text/plain": [
              "True"
            ]
          },
          "metadata": {},
          "execution_count": 4
        }
      ]
    },
    {
      "cell_type": "code",
      "source": [
        "news_dataset = pd.read_csv('/content/train.csv')"
      ],
      "metadata": {
        "id": "zD5bpcSwHEqg"
      },
      "execution_count": 8,
      "outputs": []
    },
    {
      "cell_type": "code",
      "source": [
        "news_dataset.shape"
      ],
      "metadata": {
        "colab": {
          "base_uri": "https://localhost:8080/"
        },
        "id": "3Ti_oNR0HZ8e",
        "outputId": "c49a5bec-58ac-43c3-d304-ff96b845d0c8"
      },
      "execution_count": 9,
      "outputs": [
        {
          "output_type": "execute_result",
          "data": {
            "text/plain": [
              "(20800, 5)"
            ]
          },
          "metadata": {},
          "execution_count": 9
        }
      ]
    },
    {
      "cell_type": "code",
      "source": [
        "news_dataset.head()"
      ],
      "metadata": {
        "colab": {
          "base_uri": "https://localhost:8080/",
          "height": 206
        },
        "id": "gHKPMEpfHh6w",
        "outputId": "6ec7a901-40a1-4184-c176-d5ca3e0e6b5f"
      },
      "execution_count": 10,
      "outputs": [
        {
          "output_type": "execute_result",
          "data": {
            "text/html": [
              "\n",
              "  <div id=\"df-af9f14a5-49fc-4fd3-9cd5-46a2e703b502\">\n",
              "    <div class=\"colab-df-container\">\n",
              "      <div>\n",
              "<style scoped>\n",
              "    .dataframe tbody tr th:only-of-type {\n",
              "        vertical-align: middle;\n",
              "    }\n",
              "\n",
              "    .dataframe tbody tr th {\n",
              "        vertical-align: top;\n",
              "    }\n",
              "\n",
              "    .dataframe thead th {\n",
              "        text-align: right;\n",
              "    }\n",
              "</style>\n",
              "<table border=\"1\" class=\"dataframe\">\n",
              "  <thead>\n",
              "    <tr style=\"text-align: right;\">\n",
              "      <th></th>\n",
              "      <th>id</th>\n",
              "      <th>title</th>\n",
              "      <th>author</th>\n",
              "      <th>text</th>\n",
              "      <th>label</th>\n",
              "    </tr>\n",
              "  </thead>\n",
              "  <tbody>\n",
              "    <tr>\n",
              "      <th>0</th>\n",
              "      <td>0</td>\n",
              "      <td>House Dem Aide: We Didn’t Even See Comey’s Let...</td>\n",
              "      <td>Darrell Lucus</td>\n",
              "      <td>House Dem Aide: We Didn’t Even See Comey’s Let...</td>\n",
              "      <td>1</td>\n",
              "    </tr>\n",
              "    <tr>\n",
              "      <th>1</th>\n",
              "      <td>1</td>\n",
              "      <td>FLYNN: Hillary Clinton, Big Woman on Campus - ...</td>\n",
              "      <td>Daniel J. Flynn</td>\n",
              "      <td>Ever get the feeling your life circles the rou...</td>\n",
              "      <td>0</td>\n",
              "    </tr>\n",
              "    <tr>\n",
              "      <th>2</th>\n",
              "      <td>2</td>\n",
              "      <td>Why the Truth Might Get You Fired</td>\n",
              "      <td>Consortiumnews.com</td>\n",
              "      <td>Why the Truth Might Get You Fired October 29, ...</td>\n",
              "      <td>1</td>\n",
              "    </tr>\n",
              "    <tr>\n",
              "      <th>3</th>\n",
              "      <td>3</td>\n",
              "      <td>15 Civilians Killed In Single US Airstrike Hav...</td>\n",
              "      <td>Jessica Purkiss</td>\n",
              "      <td>Videos 15 Civilians Killed In Single US Airstr...</td>\n",
              "      <td>1</td>\n",
              "    </tr>\n",
              "    <tr>\n",
              "      <th>4</th>\n",
              "      <td>4</td>\n",
              "      <td>Iranian woman jailed for fictional unpublished...</td>\n",
              "      <td>Howard Portnoy</td>\n",
              "      <td>Print \\nAn Iranian woman has been sentenced to...</td>\n",
              "      <td>1</td>\n",
              "    </tr>\n",
              "  </tbody>\n",
              "</table>\n",
              "</div>\n",
              "      <button class=\"colab-df-convert\" onclick=\"convertToInteractive('df-af9f14a5-49fc-4fd3-9cd5-46a2e703b502')\"\n",
              "              title=\"Convert this dataframe to an interactive table.\"\n",
              "              style=\"display:none;\">\n",
              "        \n",
              "  <svg xmlns=\"http://www.w3.org/2000/svg\" height=\"24px\"viewBox=\"0 0 24 24\"\n",
              "       width=\"24px\">\n",
              "    <path d=\"M0 0h24v24H0V0z\" fill=\"none\"/>\n",
              "    <path d=\"M18.56 5.44l.94 2.06.94-2.06 2.06-.94-2.06-.94-.94-2.06-.94 2.06-2.06.94zm-11 1L8.5 8.5l.94-2.06 2.06-.94-2.06-.94L8.5 2.5l-.94 2.06-2.06.94zm10 10l.94 2.06.94-2.06 2.06-.94-2.06-.94-.94-2.06-.94 2.06-2.06.94z\"/><path d=\"M17.41 7.96l-1.37-1.37c-.4-.4-.92-.59-1.43-.59-.52 0-1.04.2-1.43.59L10.3 9.45l-7.72 7.72c-.78.78-.78 2.05 0 2.83L4 21.41c.39.39.9.59 1.41.59.51 0 1.02-.2 1.41-.59l7.78-7.78 2.81-2.81c.8-.78.8-2.07 0-2.86zM5.41 20L4 18.59l7.72-7.72 1.47 1.35L5.41 20z\"/>\n",
              "  </svg>\n",
              "      </button>\n",
              "      \n",
              "  <style>\n",
              "    .colab-df-container {\n",
              "      display:flex;\n",
              "      flex-wrap:wrap;\n",
              "      gap: 12px;\n",
              "    }\n",
              "\n",
              "    .colab-df-convert {\n",
              "      background-color: #E8F0FE;\n",
              "      border: none;\n",
              "      border-radius: 50%;\n",
              "      cursor: pointer;\n",
              "      display: none;\n",
              "      fill: #1967D2;\n",
              "      height: 32px;\n",
              "      padding: 0 0 0 0;\n",
              "      width: 32px;\n",
              "    }\n",
              "\n",
              "    .colab-df-convert:hover {\n",
              "      background-color: #E2EBFA;\n",
              "      box-shadow: 0px 1px 2px rgba(60, 64, 67, 0.3), 0px 1px 3px 1px rgba(60, 64, 67, 0.15);\n",
              "      fill: #174EA6;\n",
              "    }\n",
              "\n",
              "    [theme=dark] .colab-df-convert {\n",
              "      background-color: #3B4455;\n",
              "      fill: #D2E3FC;\n",
              "    }\n",
              "\n",
              "    [theme=dark] .colab-df-convert:hover {\n",
              "      background-color: #434B5C;\n",
              "      box-shadow: 0px 1px 3px 1px rgba(0, 0, 0, 0.15);\n",
              "      filter: drop-shadow(0px 1px 2px rgba(0, 0, 0, 0.3));\n",
              "      fill: #FFFFFF;\n",
              "    }\n",
              "  </style>\n",
              "\n",
              "      <script>\n",
              "        const buttonEl =\n",
              "          document.querySelector('#df-af9f14a5-49fc-4fd3-9cd5-46a2e703b502 button.colab-df-convert');\n",
              "        buttonEl.style.display =\n",
              "          google.colab.kernel.accessAllowed ? 'block' : 'none';\n",
              "\n",
              "        async function convertToInteractive(key) {\n",
              "          const element = document.querySelector('#df-af9f14a5-49fc-4fd3-9cd5-46a2e703b502');\n",
              "          const dataTable =\n",
              "            await google.colab.kernel.invokeFunction('convertToInteractive',\n",
              "                                                     [key], {});\n",
              "          if (!dataTable) return;\n",
              "\n",
              "          const docLinkHtml = 'Like what you see? Visit the ' +\n",
              "            '<a target=\"_blank\" href=https://colab.research.google.com/notebooks/data_table.ipynb>data table notebook</a>'\n",
              "            + ' to learn more about interactive tables.';\n",
              "          element.innerHTML = '';\n",
              "          dataTable['output_type'] = 'display_data';\n",
              "          await google.colab.output.renderOutput(dataTable, element);\n",
              "          const docLink = document.createElement('div');\n",
              "          docLink.innerHTML = docLinkHtml;\n",
              "          element.appendChild(docLink);\n",
              "        }\n",
              "      </script>\n",
              "    </div>\n",
              "  </div>\n",
              "  "
            ],
            "text/plain": [
              "   id  ... label\n",
              "0   0  ...     1\n",
              "1   1  ...     0\n",
              "2   2  ...     1\n",
              "3   3  ...     1\n",
              "4   4  ...     1\n",
              "\n",
              "[5 rows x 5 columns]"
            ]
          },
          "metadata": {},
          "execution_count": 10
        }
      ]
    },
    {
      "cell_type": "code",
      "source": [
        "news_dataset.isnull().sum()"
      ],
      "metadata": {
        "colab": {
          "base_uri": "https://localhost:8080/"
        },
        "id": "UhMQspoCHw8e",
        "outputId": "14224f73-1145-4f07-fd5e-6830bb9aeab7"
      },
      "execution_count": 11,
      "outputs": [
        {
          "output_type": "execute_result",
          "data": {
            "text/plain": [
              "id           0\n",
              "title      558\n",
              "author    1957\n",
              "text        39\n",
              "label        0\n",
              "dtype: int64"
            ]
          },
          "metadata": {},
          "execution_count": 11
        }
      ]
    },
    {
      "cell_type": "code",
      "source": [
        "news_dataset= news_dataset.fillna('')"
      ],
      "metadata": {
        "id": "0rj5ElQIH8Xy"
      },
      "execution_count": 12,
      "outputs": []
    },
    {
      "cell_type": "code",
      "source": [
        "news_dataset['content']=news_dataset['author']+ news_dataset['title']"
      ],
      "metadata": {
        "id": "O4MWX6PYIjgI"
      },
      "execution_count": 13,
      "outputs": []
    },
    {
      "cell_type": "code",
      "source": [
        "print(news_dataset['content'])"
      ],
      "metadata": {
        "colab": {
          "base_uri": "https://localhost:8080/"
        },
        "id": "qXL8blNXJEpA",
        "outputId": "6404f478-e51e-432f-85ad-85d6df6fd555"
      },
      "execution_count": 14,
      "outputs": [
        {
          "output_type": "stream",
          "name": "stdout",
          "text": [
            "0        Darrell LucusHouse Dem Aide: We Didn’t Even Se...\n",
            "1        Daniel J. FlynnFLYNN: Hillary Clinton, Big Wom...\n",
            "2        Consortiumnews.comWhy the Truth Might Get You ...\n",
            "3        Jessica Purkiss15 Civilians Killed In Single U...\n",
            "4        Howard PortnoyIranian woman jailed for fiction...\n",
            "                               ...                        \n",
            "20795    Jerome HudsonRapper T.I.: Trump a ’Poster Chil...\n",
            "20796    Benjamin HoffmanN.F.L. Playoffs: Schedule, Mat...\n",
            "20797    Michael J. de la Merced and Rachel AbramsMacy’...\n",
            "20798    Alex AnsaryNATO, Russia To Hold Parallel Exerc...\n",
            "20799               David SwansonWhat Keeps the F-35 Alive\n",
            "Name: content, Length: 20800, dtype: object\n"
          ]
        }
      ]
    },
    {
      "cell_type": "code",
      "source": [
        "x=news_dataset.drop(columns='label',axis=1)\n",
        "y=news_dataset['label']"
      ],
      "metadata": {
        "id": "k3L31Hk9JS9g"
      },
      "execution_count": 16,
      "outputs": []
    },
    {
      "cell_type": "code",
      "source": [
        "print(x)\n",
        "print(y)"
      ],
      "metadata": {
        "colab": {
          "base_uri": "https://localhost:8080/"
        },
        "id": "NhYOngz-JtYN",
        "outputId": "aced868d-99e1-4970-b6d6-d228f5eee46f"
      },
      "execution_count": 17,
      "outputs": [
        {
          "output_type": "stream",
          "name": "stdout",
          "text": [
            "          id  ...                                            content\n",
            "0          0  ...  Darrell LucusHouse Dem Aide: We Didn’t Even Se...\n",
            "1          1  ...  Daniel J. FlynnFLYNN: Hillary Clinton, Big Wom...\n",
            "2          2  ...  Consortiumnews.comWhy the Truth Might Get You ...\n",
            "3          3  ...  Jessica Purkiss15 Civilians Killed In Single U...\n",
            "4          4  ...  Howard PortnoyIranian woman jailed for fiction...\n",
            "...      ...  ...                                                ...\n",
            "20795  20795  ...  Jerome HudsonRapper T.I.: Trump a ’Poster Chil...\n",
            "20796  20796  ...  Benjamin HoffmanN.F.L. Playoffs: Schedule, Mat...\n",
            "20797  20797  ...  Michael J. de la Merced and Rachel AbramsMacy’...\n",
            "20798  20798  ...  Alex AnsaryNATO, Russia To Hold Parallel Exerc...\n",
            "20799  20799  ...             David SwansonWhat Keeps the F-35 Alive\n",
            "\n",
            "[20800 rows x 5 columns]\n",
            "0        1\n",
            "1        0\n",
            "2        1\n",
            "3        1\n",
            "4        1\n",
            "        ..\n",
            "20795    0\n",
            "20796    0\n",
            "20797    0\n",
            "20798    1\n",
            "20799    1\n",
            "Name: label, Length: 20800, dtype: int64\n"
          ]
        }
      ]
    },
    {
      "cell_type": "code",
      "source": [
        "porter_stem= PorterStemmer()\n"
      ],
      "metadata": {
        "id": "hqMEsp_6J5z3"
      },
      "execution_count": 18,
      "outputs": []
    },
    {
      "cell_type": "code",
      "source": [
        "def stemming(content):\n",
        "  stemmed_content=re.sub('[^a-zA-Z]',' ', content)\n",
        "  stemmed_content=stemmed_content.lower()\n",
        "  stemmed_content=stemmed_content.split()\n",
        "  stemmed_content=[porter_stem.stem(word) for word in stemmed_content if not word in stopwords.words('english')]\n",
        "  stemmed_content=' '.join(stemmed_content)\n",
        "  return stemmed_content "
      ],
      "metadata": {
        "id": "sPtxwNWpKoeK"
      },
      "execution_count": 19,
      "outputs": []
    },
    {
      "cell_type": "code",
      "source": [
        "news_dataset['content']=news_dataset['content'].apply(stemming)"
      ],
      "metadata": {
        "id": "ZQG86QoZO31l"
      },
      "execution_count": 20,
      "outputs": []
    },
    {
      "cell_type": "code",
      "source": [
        "print(news_dataset['content'])"
      ],
      "metadata": {
        "colab": {
          "base_uri": "https://localhost:8080/"
        },
        "id": "HgFfwROuPSbQ",
        "outputId": "bec2b95e-e256-419c-c3b2-cc2ff49acab2"
      },
      "execution_count": 21,
      "outputs": [
        {
          "output_type": "stream",
          "name": "stdout",
          "text": [
            "0        darrel lucushous dem aid even see comey letter...\n",
            "1        daniel j flynnflynn hillari clinton big woman ...\n",
            "2                consortiumnew comwhi truth might get fire\n",
            "3        jessica purkiss civilian kill singl us airstri...\n",
            "4        howard portnoyiranian woman jail fiction unpub...\n",
            "                               ...                        \n",
            "20795    jerom hudsonrapp trump poster child white supr...\n",
            "20796    benjamin hoffmann f l playoff schedul matchup ...\n",
            "20797    michael j de la merc rachel abramsmaci said re...\n",
            "20798    alex ansarynato russia hold parallel exercis b...\n",
            "20799                        david swansonwhat keep f aliv\n",
            "Name: content, Length: 20800, dtype: object\n"
          ]
        }
      ]
    },
    {
      "cell_type": "code",
      "source": [
        "x=news_dataset['content'].values\n",
        "y=news_dataset['label'].values"
      ],
      "metadata": {
        "id": "HtiZutlrPfgR"
      },
      "execution_count": 23,
      "outputs": []
    },
    {
      "cell_type": "code",
      "source": [
        "print(x)"
      ],
      "metadata": {
        "colab": {
          "base_uri": "https://localhost:8080/"
        },
        "id": "fM1yW0OIQHjQ",
        "outputId": "4bb41e61-6707-4cbd-c799-52b1247e0303"
      },
      "execution_count": 24,
      "outputs": [
        {
          "output_type": "stream",
          "name": "stdout",
          "text": [
            "['darrel lucushous dem aid even see comey letter jason chaffetz tweet'\n",
            " 'daniel j flynnflynn hillari clinton big woman campu breitbart'\n",
            " 'consortiumnew comwhi truth might get fire' ...\n",
            " 'michael j de la merc rachel abramsmaci said receiv takeov approach hudson bay new york time'\n",
            " 'alex ansarynato russia hold parallel exercis balkan'\n",
            " 'david swansonwhat keep f aliv']\n"
          ]
        }
      ]
    },
    {
      "cell_type": "code",
      "source": [
        "print(y)"
      ],
      "metadata": {
        "colab": {
          "base_uri": "https://localhost:8080/"
        },
        "id": "nrY8Vt5qQJ7G",
        "outputId": "88216180-2830-4724-dbc6-c7a05813b4b7"
      },
      "execution_count": 25,
      "outputs": [
        {
          "output_type": "stream",
          "name": "stdout",
          "text": [
            "[1 0 1 ... 0 1 1]\n"
          ]
        }
      ]
    },
    {
      "cell_type": "code",
      "source": [
        "vectorizer=TfidfVectorizer()\n",
        "vectorizer.fit(x)\n",
        "x=vectorizer.transform(x)\n"
      ],
      "metadata": {
        "id": "e8Q9Avw3QOmp"
      },
      "execution_count": 26,
      "outputs": []
    },
    {
      "cell_type": "code",
      "source": [
        "print(x)"
      ],
      "metadata": {
        "colab": {
          "base_uri": "https://localhost:8080/"
        },
        "id": "BKP3oDE1RSE6",
        "outputId": "26dd047c-cb8a-4ced-a6de-c194763b5fb1"
      },
      "execution_count": 27,
      "outputs": [
        {
          "output_type": "stream",
          "name": "stdout",
          "text": [
            "  (0, 26340)\t0.28088379401596425\n",
            "  (0, 22724)\t0.2552336018069161\n",
            "  (0, 15019)\t0.43006226759639316\n",
            "  (0, 14555)\t0.29177259684200296\n",
            "  (0, 12782)\t0.24619727512767195\n",
            "  (0, 8022)\t0.23133661742488731\n",
            "  (0, 6273)\t0.2839932825877813\n",
            "  (0, 5969)\t0.35488202138141456\n",
            "  (0, 5006)\t0.2472595823572816\n",
            "  (0, 4211)\t0.3625320323150658\n",
            "  (0, 578)\t0.2694167078545385\n",
            "  (1, 27923)\t0.36911845953845024\n",
            "  (1, 11313)\t0.24166773097712638\n",
            "  (1, 8772)\t0.5258635625386451\n",
            "  (1, 5916)\t0.31810058109638056\n",
            "  (1, 4767)\t0.23338756776626793\n",
            "  (1, 3859)\t0.45980466668763476\n",
            "  (1, 3281)\t0.18652439327549428\n",
            "  (1, 2622)\t0.3562953366945267\n",
            "  (2, 26235)\t0.3665032495181434\n",
            "  (2, 16361)\t0.43295215406038445\n",
            "  (2, 9454)\t0.30743020569262086\n",
            "  (2, 8567)\t0.3411947414020896\n",
            "  (2, 5240)\t0.40440534260277944\n",
            "  (2, 5121)\t0.5511414848555652\n",
            "  :\t:\n",
            "  (20797, 25776)\t0.08220218573989037\n",
            "  (20797, 25319)\t0.3119640221826561\n",
            "  (20797, 22086)\t0.24902354987792552\n",
            "  (20797, 20778)\t0.2729578683228216\n",
            "  (20797, 20493)\t0.249994989010826\n",
            "  (20797, 17505)\t0.08090456115716123\n",
            "  (20797, 16315)\t0.1785200594251359\n",
            "  (20797, 16217)\t0.3273246827604847\n",
            "  (20797, 14104)\t0.22761807337911874\n",
            "  (20797, 11692)\t0.2992170910232368\n",
            "  (20797, 6088)\t0.21253094503918346\n",
            "  (20797, 2257)\t0.3357782642976524\n",
            "  (20797, 1249)\t0.3072223353708335\n",
            "  (20797, 72)\t0.38829670969848273\n",
            "  (20798, 21937)\t0.2284042880065583\n",
            "  (20798, 18760)\t0.43981843518920394\n",
            "  (20798, 11434)\t0.3219420705942853\n",
            "  (20798, 8095)\t0.40266358130888547\n",
            "  (20798, 1921)\t0.43981843518920394\n",
            "  (20798, 1081)\t0.4638903157542853\n",
            "  (20798, 697)\t0.2827933658592677\n",
            "  (20799, 25148)\t0.6713314187498636\n",
            "  (20799, 13329)\t0.4138037375613909\n",
            "  (20799, 6018)\t0.345590335823275\n",
            "  (20799, 732)\t0.5085743925573473\n"
          ]
        }
      ]
    },
    {
      "cell_type": "code",
      "source": [
        "x_train,x_test,y_train,y_test= train_test_split(x,y,test_size=0.2,stratify=y,random_state=2)"
      ],
      "metadata": {
        "id": "qLHHHNC4RUJW"
      },
      "execution_count": 28,
      "outputs": []
    },
    {
      "cell_type": "code",
      "source": [
        "model=LogisticRegression()"
      ],
      "metadata": {
        "id": "tryQEh5uSFji"
      },
      "execution_count": 29,
      "outputs": []
    },
    {
      "cell_type": "code",
      "source": [
        "model.fit(x_train,y_train)\n"
      ],
      "metadata": {
        "colab": {
          "base_uri": "https://localhost:8080/"
        },
        "id": "qKfyHo2eTTmF",
        "outputId": "d1a5d526-016e-44d4-9e44-ba28d7518965"
      },
      "execution_count": 30,
      "outputs": [
        {
          "output_type": "execute_result",
          "data": {
            "text/plain": [
              "LogisticRegression()"
            ]
          },
          "metadata": {},
          "execution_count": 30
        }
      ]
    },
    {
      "cell_type": "code",
      "source": [
        "x_train_prediction=model.predict(x_train)\n",
        "train_accuracy=accuracy_score(x_train_prediction,y_train)"
      ],
      "metadata": {
        "id": "z-kXdQYEThgL"
      },
      "execution_count": 31,
      "outputs": []
    },
    {
      "cell_type": "code",
      "source": [
        "print(train_accuracy)"
      ],
      "metadata": {
        "colab": {
          "base_uri": "https://localhost:8080/"
        },
        "id": "3sd-ZKTeUINK",
        "outputId": "1e05ae42-ac78-4a24-8275-7e246074612f"
      },
      "execution_count": 32,
      "outputs": [
        {
          "output_type": "stream",
          "name": "stdout",
          "text": [
            "0.9719951923076923\n"
          ]
        }
      ]
    },
    {
      "cell_type": "code",
      "source": [
        "x_test_prediction=model.predict(x_test)\n",
        "test_accuracy=accuracy_score(x_test_prediction,y_test)\n",
        "print(test_accuracy)"
      ],
      "metadata": {
        "colab": {
          "base_uri": "https://localhost:8080/"
        },
        "id": "DfQ-kQgRUaL3",
        "outputId": "3224aa56-a246-4b9d-d01a-57af798b2a51"
      },
      "execution_count": 33,
      "outputs": [
        {
          "output_type": "stream",
          "name": "stdout",
          "text": [
            "0.9548076923076924\n"
          ]
        }
      ]
    },
    {
      "cell_type": "code",
      "source": [
        "x_new=x_test[0]\n",
        "prediction=model.predict(x_new)\n",
        "print(prediction)\n",
        "if(prediction[0]==0):\n",
        "  print('the news is not fake')\n",
        "else:\n",
        "  print('The news is fake')"
      ],
      "metadata": {
        "colab": {
          "base_uri": "https://localhost:8080/"
        },
        "id": "ISplQ1NFU5VT",
        "outputId": "f608dfb1-55cb-44f2-fc43-2495c6b899c1"
      },
      "execution_count": 34,
      "outputs": [
        {
          "output_type": "stream",
          "name": "stdout",
          "text": [
            "[1]\n",
            "The news is fake\n"
          ]
        }
      ]
    }
  ]
}